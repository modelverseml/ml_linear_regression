{
 "cells": [
  {
   "cell_type": "markdown",
   "id": "4a676811-23b5-4ab5-954d-c29bdc20d127",
   "metadata": {},
   "source": [
    "## USA Real Estate Sales 2001-2023 \n",
    "\n",
    "https://catalog.data.gov/dataset/real-estate-sales-2001-2018\n",
    "\n",
    "The project uses U.S. real estate sales data spanning 2001 to 2021, with a focus on the years 2019, 2020, and 2021. From this filtered dataset, the objective is to develop a regression model that can approximate house prices based on location and buyer preferences.\n",
    "\n",
    "Columns : \n",
    "\n",
    "- Serial Number\t: Unique Number given the instance\n",
    "- List Year :  ranges from 2019 to 2021\n",
    "- Date Recorded : Actual data loaded date\n",
    "- Town  AND Address : Location of the property\n",
    "- Assessed Value : Listed price on the site or posting\n",
    "- Sale Amount : Actual sold price\n",
    "- Sales Ratio : Sales Ratio relationship between the Assessed Value and the Sale Amount.\n",
    "- Property Type : ['Residential', 'Vacant Land', 'Commercial', 'Apartments','Industrial', nan, 'Public Utility', 'Condo', 'Two Family','Single Family', 'Three Family', 'Four Family' \\]\n",
    "- Residential Type : ['Condo', nan, 'Single Family', 'Two Family', 'Three Family','Four Family' \\]\n",
    "- Non Use Code : A classification code used by assessors to indicate that a property is not being used for its intended purpose.\n",
    "- Assessor Remarks : Notes entered by the property tax assessor to provide additional context about the property.\n",
    "- OPM Remarks : Usually refers to comments from the Office of Property Management (OPM) or a similar overseeing authority.\n",
    "- Location : Indicates the geographical placement of the property (GPS coordinates)."
   ]
  },
  {
   "cell_type": "markdown",
   "id": "6516f94e-f818-4517-a5da-34b890061b4d",
   "metadata": {},
   "source": [
    "### Data Reading and preprocessing"
   ]
  },
  {
   "cell_type": "code",
   "execution_count": 3,
   "id": "5a3bc6b1",
   "metadata": {},
   "outputs": [],
   "source": [
    "import pandas as pd\n",
    "import matplotlib.pyplot as plt\n",
    "import seaborn as sns\n",
    "import warnings\n",
    "warnings.filterwarnings('ignore')\n"
   ]
  },
  {
   "cell_type": "code",
   "execution_count": 4,
   "id": "d76e7a9b",
   "metadata": {},
   "outputs": [],
   "source": [
    "raw_sales = pd.read_excel('usa_real_estate_2019_2021.xlsx')"
   ]
  },
  {
   "cell_type": "code",
   "execution_count": 5,
   "id": "2d846f42-ea69-4f0a-b9a2-a4ad8e63f46c",
   "metadata": {},
   "outputs": [
    {
     "data": {
      "text/html": [
       "<div>\n",
       "<style scoped>\n",
       "    .dataframe tbody tr th:only-of-type {\n",
       "        vertical-align: middle;\n",
       "    }\n",
       "\n",
       "    .dataframe tbody tr th {\n",
       "        vertical-align: top;\n",
       "    }\n",
       "\n",
       "    .dataframe thead th {\n",
       "        text-align: right;\n",
       "    }\n",
       "</style>\n",
       "<table border=\"1\" class=\"dataframe\">\n",
       "  <thead>\n",
       "    <tr style=\"text-align: right;\">\n",
       "      <th></th>\n",
       "      <th>Serial Number</th>\n",
       "      <th>List Year</th>\n",
       "      <th>Date Recorded</th>\n",
       "      <th>Town</th>\n",
       "      <th>Address</th>\n",
       "      <th>Assessed Value</th>\n",
       "      <th>Sale Amount</th>\n",
       "      <th>Sales Ratio</th>\n",
       "      <th>Property Type</th>\n",
       "      <th>Residential Type</th>\n",
       "      <th>Non Use Code</th>\n",
       "      <th>Assessor Remarks</th>\n",
       "      <th>OPM remarks</th>\n",
       "      <th>Location</th>\n",
       "    </tr>\n",
       "  </thead>\n",
       "  <tbody>\n",
       "    <tr>\n",
       "      <th>0</th>\n",
       "      <td>210288</td>\n",
       "      <td>2021</td>\n",
       "      <td>06/20/2022</td>\n",
       "      <td>Avon</td>\n",
       "      <td>12 BYRON DRIVE</td>\n",
       "      <td>179990</td>\n",
       "      <td>362500.0</td>\n",
       "      <td>0.4965</td>\n",
       "      <td>Residential</td>\n",
       "      <td>Condo</td>\n",
       "      <td>NaN</td>\n",
       "      <td>NaN</td>\n",
       "      <td>NaN</td>\n",
       "      <td>POINT (-72.879115982 41.773452988)</td>\n",
       "    </tr>\n",
       "    <tr>\n",
       "      <th>1</th>\n",
       "      <td>211386</td>\n",
       "      <td>2021</td>\n",
       "      <td>04/18/2022</td>\n",
       "      <td>Bridgeport</td>\n",
       "      <td>55 CANNON ST</td>\n",
       "      <td>110610</td>\n",
       "      <td>50000.0</td>\n",
       "      <td>2.2122</td>\n",
       "      <td>Vacant Land</td>\n",
       "      <td>NaN</td>\n",
       "      <td>NaN</td>\n",
       "      <td>NaN</td>\n",
       "      <td>NaN</td>\n",
       "      <td>POINT (-73.19020596 41.178257983)</td>\n",
       "    </tr>\n",
       "    <tr>\n",
       "      <th>2</th>\n",
       "      <td>212036</td>\n",
       "      <td>2021</td>\n",
       "      <td>2022-08-08 00:00:00</td>\n",
       "      <td>Bridgeport</td>\n",
       "      <td>540 JAMES ST</td>\n",
       "      <td>252150</td>\n",
       "      <td>650000.0</td>\n",
       "      <td>0.3879</td>\n",
       "      <td>Commercial</td>\n",
       "      <td>NaN</td>\n",
       "      <td>NaN</td>\n",
       "      <td>NaN</td>\n",
       "      <td>NaN</td>\n",
       "      <td>POINT (-73.204413035 41.183766989)</td>\n",
       "    </tr>\n",
       "    <tr>\n",
       "      <th>3</th>\n",
       "      <td>212150</td>\n",
       "      <td>2021</td>\n",
       "      <td>08/30/2022</td>\n",
       "      <td>Bridgeport</td>\n",
       "      <td>126 KENNEDY DR</td>\n",
       "      <td>70850</td>\n",
       "      <td>130000.0</td>\n",
       "      <td>0.5450</td>\n",
       "      <td>Residential</td>\n",
       "      <td>Condo</td>\n",
       "      <td>NaN</td>\n",
       "      <td>NaN</td>\n",
       "      <td>NaN</td>\n",
       "      <td>POINT (-73.221583028 41.214441988)</td>\n",
       "    </tr>\n",
       "    <tr>\n",
       "      <th>4</th>\n",
       "      <td>211190</td>\n",
       "      <td>2021</td>\n",
       "      <td>2022-08-08 00:00:00</td>\n",
       "      <td>Bristol</td>\n",
       "      <td>477 PERKINS ST</td>\n",
       "      <td>45010</td>\n",
       "      <td>99900.0</td>\n",
       "      <td>0.4505</td>\n",
       "      <td>Vacant Land</td>\n",
       "      <td>NaN</td>\n",
       "      <td>NaN</td>\n",
       "      <td>NaN</td>\n",
       "      <td>NaN</td>\n",
       "      <td>POINT (-72.966378188 41.695721379)</td>\n",
       "    </tr>\n",
       "  </tbody>\n",
       "</table>\n",
       "</div>"
      ],
      "text/plain": [
       "   Serial Number  List Year        Date Recorded        Town         Address  \\\n",
       "0         210288       2021           06/20/2022        Avon  12 BYRON DRIVE   \n",
       "1         211386       2021           04/18/2022  Bridgeport    55 CANNON ST   \n",
       "2         212036       2021  2022-08-08 00:00:00  Bridgeport    540 JAMES ST   \n",
       "3         212150       2021           08/30/2022  Bridgeport  126 KENNEDY DR   \n",
       "4         211190       2021  2022-08-08 00:00:00     Bristol  477 PERKINS ST   \n",
       "\n",
       "   Assessed Value  Sale Amount  Sales Ratio Property Type Residential Type  \\\n",
       "0          179990     362500.0       0.4965   Residential            Condo   \n",
       "1          110610      50000.0       2.2122   Vacant Land              NaN   \n",
       "2          252150     650000.0       0.3879    Commercial              NaN   \n",
       "3           70850     130000.0       0.5450   Residential            Condo   \n",
       "4           45010      99900.0       0.4505   Vacant Land              NaN   \n",
       "\n",
       "  Non Use Code Assessor Remarks OPM remarks  \\\n",
       "0          NaN              NaN         NaN   \n",
       "1          NaN              NaN         NaN   \n",
       "2          NaN              NaN         NaN   \n",
       "3          NaN              NaN         NaN   \n",
       "4          NaN              NaN         NaN   \n",
       "\n",
       "                             Location  \n",
       "0  POINT (-72.879115982 41.773452988)  \n",
       "1   POINT (-73.19020596 41.178257983)  \n",
       "2  POINT (-73.204413035 41.183766989)  \n",
       "3  POINT (-73.221583028 41.214441988)  \n",
       "4  POINT (-72.966378188 41.695721379)  "
      ]
     },
     "execution_count": 5,
     "metadata": {},
     "output_type": "execute_result"
    }
   ],
   "source": [
    "raw_sales.head()"
   ]
  },
  {
   "cell_type": "code",
   "execution_count": 6,
   "id": "525547da-2e37-4d5d-9ebf-6c65c2b43143",
   "metadata": {},
   "outputs": [
    {
     "data": {
      "text/html": [
       "<div>\n",
       "<style scoped>\n",
       "    .dataframe tbody tr th:only-of-type {\n",
       "        vertical-align: middle;\n",
       "    }\n",
       "\n",
       "    .dataframe tbody tr th {\n",
       "        vertical-align: top;\n",
       "    }\n",
       "\n",
       "    .dataframe thead th {\n",
       "        text-align: right;\n",
       "    }\n",
       "</style>\n",
       "<table border=\"1\" class=\"dataframe\">\n",
       "  <thead>\n",
       "    <tr style=\"text-align: right;\">\n",
       "      <th></th>\n",
       "      <th>Serial Number</th>\n",
       "      <th>List Year</th>\n",
       "      <th>Assessed Value</th>\n",
       "      <th>Sale Amount</th>\n",
       "      <th>Sales Ratio</th>\n",
       "    </tr>\n",
       "  </thead>\n",
       "  <tbody>\n",
       "    <tr>\n",
       "      <th>count</th>\n",
       "      <td>1.048575e+06</td>\n",
       "      <td>1.048575e+06</td>\n",
       "      <td>1.048575e+06</td>\n",
       "      <td>1.048575e+06</td>\n",
       "      <td>1.048575e+06</td>\n",
       "    </tr>\n",
       "    <tr>\n",
       "      <th>mean</th>\n",
       "      <td>4.950288e+05</td>\n",
       "      <td>2.010730e+03</td>\n",
       "      <td>2.796226e+05</td>\n",
       "      <td>3.986179e+05</td>\n",
       "      <td>1.000195e+01</td>\n",
       "    </tr>\n",
       "    <tr>\n",
       "      <th>std</th>\n",
       "      <td>7.154565e+06</td>\n",
       "      <td>6.530424e+00</td>\n",
       "      <td>1.647231e+06</td>\n",
       "      <td>5.235767e+06</td>\n",
       "      <td>1.843322e+03</td>\n",
       "    </tr>\n",
       "    <tr>\n",
       "      <th>min</th>\n",
       "      <td>0.000000e+00</td>\n",
       "      <td>2.001000e+03</td>\n",
       "      <td>0.000000e+00</td>\n",
       "      <td>0.000000e+00</td>\n",
       "      <td>0.000000e+00</td>\n",
       "    </tr>\n",
       "    <tr>\n",
       "      <th>25%</th>\n",
       "      <td>3.053200e+04</td>\n",
       "      <td>2.004000e+03</td>\n",
       "      <td>8.836000e+04</td>\n",
       "      <td>1.420000e+05</td>\n",
       "      <td>4.811066e-01</td>\n",
       "    </tr>\n",
       "    <tr>\n",
       "      <th>50%</th>\n",
       "      <td>8.005000e+04</td>\n",
       "      <td>2.011000e+03</td>\n",
       "      <td>1.395000e+05</td>\n",
       "      <td>2.300000e+05</td>\n",
       "      <td>6.160000e-01</td>\n",
       "    </tr>\n",
       "    <tr>\n",
       "      <th>75%</th>\n",
       "      <td>1.606000e+05</td>\n",
       "      <td>2.017000e+03</td>\n",
       "      <td>2.268400e+05</td>\n",
       "      <td>3.700000e+05</td>\n",
       "      <td>7.765003e-01</td>\n",
       "    </tr>\n",
       "    <tr>\n",
       "      <th>max</th>\n",
       "      <td>2.000500e+09</td>\n",
       "      <td>2.021000e+03</td>\n",
       "      <td>8.815100e+08</td>\n",
       "      <td>5.000000e+09</td>\n",
       "      <td>1.226420e+06</td>\n",
       "    </tr>\n",
       "  </tbody>\n",
       "</table>\n",
       "</div>"
      ],
      "text/plain": [
       "       Serial Number     List Year  Assessed Value   Sale Amount   Sales Ratio\n",
       "count   1.048575e+06  1.048575e+06    1.048575e+06  1.048575e+06  1.048575e+06\n",
       "mean    4.950288e+05  2.010730e+03    2.796226e+05  3.986179e+05  1.000195e+01\n",
       "std     7.154565e+06  6.530424e+00    1.647231e+06  5.235767e+06  1.843322e+03\n",
       "min     0.000000e+00  2.001000e+03    0.000000e+00  0.000000e+00  0.000000e+00\n",
       "25%     3.053200e+04  2.004000e+03    8.836000e+04  1.420000e+05  4.811066e-01\n",
       "50%     8.005000e+04  2.011000e+03    1.395000e+05  2.300000e+05  6.160000e-01\n",
       "75%     1.606000e+05  2.017000e+03    2.268400e+05  3.700000e+05  7.765003e-01\n",
       "max     2.000500e+09  2.021000e+03    8.815100e+08  5.000000e+09  1.226420e+06"
      ]
     },
     "execution_count": 6,
     "metadata": {},
     "output_type": "execute_result"
    }
   ],
   "source": [
    "raw_sales.describe()"
   ]
  },
  {
   "cell_type": "code",
   "execution_count": 7,
   "id": "656de83e-3bc9-4c95-8c71-df37140b1299",
   "metadata": {},
   "outputs": [
    {
     "name": "stdout",
     "output_type": "stream",
     "text": [
      "<class 'pandas.core.frame.DataFrame'>\n",
      "RangeIndex: 1048575 entries, 0 to 1048574\n",
      "Data columns (total 14 columns):\n",
      " #   Column            Non-Null Count    Dtype  \n",
      "---  ------            --------------    -----  \n",
      " 0   Serial Number     1048575 non-null  int64  \n",
      " 1   List Year         1048575 non-null  int64  \n",
      " 2   Date Recorded     1048573 non-null  object \n",
      " 3   Town              1048575 non-null  object \n",
      " 4   Address           1048524 non-null  object \n",
      " 5   Assessed Value    1048575 non-null  int64  \n",
      " 6   Sale Amount       1048575 non-null  float64\n",
      " 7   Sales Ratio       1048575 non-null  float64\n",
      " 8   Property Type     666513 non-null   object \n",
      " 9   Residential Type  655075 non-null   object \n",
      " 10  Non Use Code      300672 non-null   object \n",
      " 11  Assessor Remarks  160318 non-null   object \n",
      " 12  OPM remarks       11365 non-null    object \n",
      " 13  Location          253824 non-null   object \n",
      "dtypes: float64(2), int64(3), object(9)\n",
      "memory usage: 112.0+ MB\n"
     ]
    }
   ],
   "source": [
    "raw_sales.info()"
   ]
  },
  {
   "cell_type": "code",
   "execution_count": 8,
   "id": "bbaffd50-266e-4b23-a36e-9fd2eb70a163",
   "metadata": {},
   "outputs": [],
   "source": [
    "## Removing year and serial number\n",
    "sales = raw_sales.drop(['Serial Number','List Year'],axis=1)"
   ]
  },
  {
   "cell_type": "code",
   "execution_count": 9,
   "id": "29957fd6-fbe2-4530-9992-2e481934e3bb",
   "metadata": {},
   "outputs": [
    {
     "data": {
      "text/plain": [
       "Date Recorded        0.00\n",
       "Town                 0.00\n",
       "Address              0.00\n",
       "Assessed Value       0.00\n",
       "Sale Amount          0.00\n",
       "Sales Ratio          0.00\n",
       "Property Type       36.44\n",
       "Residential Type    37.53\n",
       "Non Use Code        71.33\n",
       "Assessor Remarks    84.71\n",
       "OPM remarks         98.92\n",
       "Location            75.79\n",
       "dtype: float64"
      ]
     },
     "execution_count": 9,
     "metadata": {},
     "output_type": "execute_result"
    }
   ],
   "source": [
    "round(sales.isnull().sum() / sales.shape[0] *100,2 )"
   ]
  },
  {
   "cell_type": "code",
   "execution_count": 10,
   "id": "da5565d1-86b0-4b53-9351-8bdc45d05f38",
   "metadata": {},
   "outputs": [],
   "source": [
    "''' Removing  Non Use Code ,  Assessor Remarks, OPM remarks , Location\n",
    "because these columns are having too many null values\n",
    "'''\n",
    "\n",
    "sales.drop(['Non Use Code' ,  'Assessor Remarks', 'OPM remarks' , 'Location'],inplace=True,axis=1)"
   ]
  },
  {
   "cell_type": "code",
   "execution_count": 11,
   "id": "231ba0d6-79c2-42f1-a7fb-d7deaba24934",
   "metadata": {},
   "outputs": [
    {
     "data": {
      "text/html": [
       "<div>\n",
       "<style scoped>\n",
       "    .dataframe tbody tr th:only-of-type {\n",
       "        vertical-align: middle;\n",
       "    }\n",
       "\n",
       "    .dataframe tbody tr th {\n",
       "        vertical-align: top;\n",
       "    }\n",
       "\n",
       "    .dataframe thead th {\n",
       "        text-align: right;\n",
       "    }\n",
       "</style>\n",
       "<table border=\"1\" class=\"dataframe\">\n",
       "  <thead>\n",
       "    <tr style=\"text-align: right;\">\n",
       "      <th></th>\n",
       "      <th>Property Type</th>\n",
       "      <th>Residential Type</th>\n",
       "    </tr>\n",
       "  </thead>\n",
       "  <tbody>\n",
       "    <tr>\n",
       "      <th>0</th>\n",
       "      <td>Residential</td>\n",
       "      <td>Condo</td>\n",
       "    </tr>\n",
       "    <tr>\n",
       "      <th>1</th>\n",
       "      <td>Vacant Land</td>\n",
       "      <td>NaN</td>\n",
       "    </tr>\n",
       "    <tr>\n",
       "      <th>2</th>\n",
       "      <td>Commercial</td>\n",
       "      <td>NaN</td>\n",
       "    </tr>\n",
       "    <tr>\n",
       "      <th>3</th>\n",
       "      <td>Residential</td>\n",
       "      <td>Condo</td>\n",
       "    </tr>\n",
       "    <tr>\n",
       "      <th>4</th>\n",
       "      <td>Vacant Land</td>\n",
       "      <td>NaN</td>\n",
       "    </tr>\n",
       "    <tr>\n",
       "      <th>...</th>\n",
       "      <td>...</td>\n",
       "      <td>...</td>\n",
       "    </tr>\n",
       "    <tr>\n",
       "      <th>1048570</th>\n",
       "      <td>Single Family</td>\n",
       "      <td>Single Family</td>\n",
       "    </tr>\n",
       "    <tr>\n",
       "      <th>1048571</th>\n",
       "      <td>Single Family</td>\n",
       "      <td>Single Family</td>\n",
       "    </tr>\n",
       "    <tr>\n",
       "      <th>1048572</th>\n",
       "      <td>Two Family</td>\n",
       "      <td>Two Family</td>\n",
       "    </tr>\n",
       "    <tr>\n",
       "      <th>1048573</th>\n",
       "      <td>Single Family</td>\n",
       "      <td>Single Family</td>\n",
       "    </tr>\n",
       "    <tr>\n",
       "      <th>1048574</th>\n",
       "      <td>Single Family</td>\n",
       "      <td>Single Family</td>\n",
       "    </tr>\n",
       "  </tbody>\n",
       "</table>\n",
       "<p>1048575 rows × 2 columns</p>\n",
       "</div>"
      ],
      "text/plain": [
       "         Property Type Residential Type\n",
       "0          Residential            Condo\n",
       "1          Vacant Land              NaN\n",
       "2           Commercial              NaN\n",
       "3          Residential            Condo\n",
       "4          Vacant Land              NaN\n",
       "...                ...              ...\n",
       "1048570  Single Family    Single Family\n",
       "1048571  Single Family    Single Family\n",
       "1048572     Two Family       Two Family\n",
       "1048573  Single Family    Single Family\n",
       "1048574  Single Family    Single Family\n",
       "\n",
       "[1048575 rows x 2 columns]"
      ]
     },
     "execution_count": 11,
     "metadata": {},
     "output_type": "execute_result"
    }
   ],
   "source": [
    "sales[['Property Type','Residential Type']]"
   ]
  },
  {
   "cell_type": "code",
   "execution_count": 12,
   "id": "b0df3b85-c30c-4511-b34d-129bbff97610",
   "metadata": {},
   "outputs": [],
   "source": [
    "''' In this case, vacant land and commercial properties do not have any associated residential type, whereas residential types are \n",
    "important for our analysis. Therefore, for such records, we will replace the missing values in the Residential Type column with \"Other\" instead of leaving them as NaN.\n",
    "\n",
    "Additionally, we will remove rows where the Property Type is null, since this column is more critical for our model.\n",
    "'''\n",
    "sales = sales[sales['Property Type'].notnull()]\n",
    "\n",
    "sales.loc[sales[\"Property Type\"].isin([\"Vacant Land\", \"Commercial\"]), \"Residential Type\"] = \"Other\""
   ]
  },
  {
   "cell_type": "code",
   "execution_count": 13,
   "id": "01ffb3cc-9f1c-42c1-8c04-4d7b296e8fc5",
   "metadata": {},
   "outputs": [
    {
     "data": {
      "text/plain": [
       "Date Recorded       0.00\n",
       "Town                0.00\n",
       "Address             0.00\n",
       "Assessed Value      0.00\n",
       "Sale Amount         0.00\n",
       "Sales Ratio         0.00\n",
       "Property Type       0.00\n",
       "Residential Type    0.22\n",
       "dtype: float64"
      ]
     },
     "execution_count": 13,
     "metadata": {},
     "output_type": "execute_result"
    }
   ],
   "source": [
    "round(sales.isnull().sum() / sales.shape[0] *100,2 )"
   ]
  },
  {
   "cell_type": "code",
   "execution_count": 14,
   "id": "061a9496-906f-42b9-8f0b-4c572172e054",
   "metadata": {},
   "outputs": [
    {
     "data": {
      "text/plain": [
       "(666513, 8)"
      ]
     },
     "execution_count": 14,
     "metadata": {},
     "output_type": "execute_result"
    }
   ],
   "source": [
    "sales.shape"
   ]
  },
  {
   "cell_type": "code",
   "execution_count": 15,
   "id": "b391bd53-07ad-4df2-ad64-f3bc5fb3e90c",
   "metadata": {},
   "outputs": [
    {
     "data": {
      "text/plain": [
       "array(['Apartments', 'Industrial', 'Public Utility'], dtype=object)"
      ]
     },
     "execution_count": 15,
     "metadata": {},
     "output_type": "execute_result"
    }
   ],
   "source": [
    "sales[sales['Residential Type'].isnull()]['Property Type'].unique()"
   ]
  },
  {
   "cell_type": "code",
   "execution_count": 16,
   "id": "de2beaca-b14a-40af-b280-08a5d398b007",
   "metadata": {},
   "outputs": [],
   "source": [
    "\"\"\"\n",
    "Here, we are converting the values ['Apartments', 'Industrial', 'Public Utility'] \n",
    "in the 'Property Type' column to 'Other' for consistency.\n",
    "\"\"\"\n",
    "\n",
    "sales.loc[sales[\"Property Type\"].isin([\"Apartments\", \"Industrial\", \"Public Utility\"]), \"Residential Type\"] = \"Other\""
   ]
  },
  {
   "cell_type": "code",
   "execution_count": 17,
   "id": "7203795a-4812-48c9-ad88-f94955b18afe",
   "metadata": {},
   "outputs": [
    {
     "data": {
      "text/plain": [
       "Date Recorded       0.0\n",
       "Town                0.0\n",
       "Address             0.0\n",
       "Assessed Value      0.0\n",
       "Sale Amount         0.0\n",
       "Sales Ratio         0.0\n",
       "Property Type       0.0\n",
       "Residential Type    0.0\n",
       "dtype: float64"
      ]
     },
     "execution_count": 17,
     "metadata": {},
     "output_type": "execute_result"
    }
   ],
   "source": [
    "round(sales.isnull().sum() / sales.shape[0] *100,2)"
   ]
  },
  {
   "cell_type": "code",
   "execution_count": 18,
   "id": "e206ed6d-41d9-4a8d-991b-5d5a6f6953bb",
   "metadata": {},
   "outputs": [
    {
     "data": {
      "text/plain": [
       "(666513, 8)"
      ]
     },
     "execution_count": 18,
     "metadata": {},
     "output_type": "execute_result"
    }
   ],
   "source": [
    "sales.shape"
   ]
  },
  {
   "cell_type": "code",
   "execution_count": 19,
   "id": "df2e44e5-2085-4df3-8b2c-37bc3cf60b78",
   "metadata": {},
   "outputs": [
    {
     "data": {
      "text/html": [
       "<div>\n",
       "<style scoped>\n",
       "    .dataframe tbody tr th:only-of-type {\n",
       "        vertical-align: middle;\n",
       "    }\n",
       "\n",
       "    .dataframe tbody tr th {\n",
       "        vertical-align: top;\n",
       "    }\n",
       "\n",
       "    .dataframe thead th {\n",
       "        text-align: right;\n",
       "    }\n",
       "</style>\n",
       "<table border=\"1\" class=\"dataframe\">\n",
       "  <thead>\n",
       "    <tr style=\"text-align: right;\">\n",
       "      <th></th>\n",
       "      <th>Assessed Value</th>\n",
       "      <th>Sale Amount</th>\n",
       "      <th>Sales Ratio</th>\n",
       "    </tr>\n",
       "  </thead>\n",
       "  <tbody>\n",
       "    <tr>\n",
       "      <th>count</th>\n",
       "      <td>6.665130e+05</td>\n",
       "      <td>6.665130e+05</td>\n",
       "      <td>6.665130e+05</td>\n",
       "    </tr>\n",
       "    <tr>\n",
       "      <th>mean</th>\n",
       "      <td>2.590778e+05</td>\n",
       "      <td>3.911243e+05</td>\n",
       "      <td>5.295539e+00</td>\n",
       "    </tr>\n",
       "    <tr>\n",
       "      <th>std</th>\n",
       "      <td>1.337010e+06</td>\n",
       "      <td>6.248082e+06</td>\n",
       "      <td>1.720996e+03</td>\n",
       "    </tr>\n",
       "    <tr>\n",
       "      <th>min</th>\n",
       "      <td>0.000000e+00</td>\n",
       "      <td>0.000000e+00</td>\n",
       "      <td>0.000000e+00</td>\n",
       "    </tr>\n",
       "    <tr>\n",
       "      <th>25%</th>\n",
       "      <td>1.097600e+05</td>\n",
       "      <td>1.533000e+05</td>\n",
       "      <td>5.651000e-01</td>\n",
       "    </tr>\n",
       "    <tr>\n",
       "      <th>50%</th>\n",
       "      <td>1.594600e+05</td>\n",
       "      <td>2.400000e+05</td>\n",
       "      <td>6.761000e-01</td>\n",
       "    </tr>\n",
       "    <tr>\n",
       "      <th>75%</th>\n",
       "      <td>2.486000e+05</td>\n",
       "      <td>3.800000e+05</td>\n",
       "      <td>8.253968e-01</td>\n",
       "    </tr>\n",
       "    <tr>\n",
       "      <th>max</th>\n",
       "      <td>8.815100e+08</td>\n",
       "      <td>5.000000e+09</td>\n",
       "      <td>1.226420e+06</td>\n",
       "    </tr>\n",
       "  </tbody>\n",
       "</table>\n",
       "</div>"
      ],
      "text/plain": [
       "       Assessed Value   Sale Amount   Sales Ratio\n",
       "count    6.665130e+05  6.665130e+05  6.665130e+05\n",
       "mean     2.590778e+05  3.911243e+05  5.295539e+00\n",
       "std      1.337010e+06  6.248082e+06  1.720996e+03\n",
       "min      0.000000e+00  0.000000e+00  0.000000e+00\n",
       "25%      1.097600e+05  1.533000e+05  5.651000e-01\n",
       "50%      1.594600e+05  2.400000e+05  6.761000e-01\n",
       "75%      2.486000e+05  3.800000e+05  8.253968e-01\n",
       "max      8.815100e+08  5.000000e+09  1.226420e+06"
      ]
     },
     "execution_count": 19,
     "metadata": {},
     "output_type": "execute_result"
    }
   ],
   "source": [
    "sales.describe()"
   ]
  },
  {
   "cell_type": "code",
   "execution_count": 20,
   "id": "0330e620-4e14-458f-ad4b-6a0250d52ed9",
   "metadata": {},
   "outputs": [
    {
     "data": {
      "text/plain": [
       "0.90     650000.0\n",
       "0.95    1000000.0\n",
       "0.97    1450000.0\n",
       "0.99    2725000.0\n",
       "Name: Sale Amount, dtype: float64"
      ]
     },
     "execution_count": 20,
     "metadata": {},
     "output_type": "execute_result"
    }
   ],
   "source": [
    "sales[\"Sale Amount\"].quantile([0.90,0.95,0.97,0.99])"
   ]
  },
  {
   "cell_type": "code",
   "execution_count": 21,
   "id": "3df1346f-362e-4950-adba-9b61374cb25a",
   "metadata": {},
   "outputs": [
    {
     "data": {
      "image/png": "[encoded data removed]",
      "text/plain": [
       "<Figure size 640x480 with 1 Axes>"
      ]
     },
     "metadata": {},
     "output_type": "display_data"
    }
   ],
   "source": [
    "sns.boxplot(sales[\"Sale Amount\"])\n",
    "plt.show()"
   ]
  },
  {
   "cell_type": "code",
   "execution_count": 22,
   "id": "46088733-1615-4311-893e-cf458ff9c5a7",
   "metadata": {},
   "outputs": [],
   "source": [
    "''' There is an outlier in the data so we are removing the outliers from the data'''\n",
    "final_sales = sales[sales[\"Sale Amount\"]<1000000000]"
   ]
  },
  {
   "cell_type": "code",
   "execution_count": 23,
   "id": "27bd3597-76d8-474c-af6e-fe4d670dbc2c",
   "metadata": {},
   "outputs": [
    {
     "data": {
      "image/png": "[encoded data removed]",
      "text/plain": [
       "<Figure size 640x480 with 1 Axes>"
      ]
     },
     "metadata": {},
     "output_type": "display_data"
    }
   ],
   "source": [
    "sns.boxplot(final_sales[\"Sale Amount\"])\n",
    "plt.show()"
   ]
  },
  {
   "cell_type": "code",
   "execution_count": 24,
   "id": "56c66b6d-938e-44f0-bec7-1d0911174092",
   "metadata": {},
   "outputs": [
    {
     "data": {
      "image/png": "[encoded data removed]",
      "text/plain": [
       "<Figure size 640x480 with 1 Axes>"
      ]
     },
     "metadata": {},
     "output_type": "display_data"
    }
   ],
   "source": [
    "plt.scatter(final_sales['Assessed Value'],final_sales['Sale Amount'])\n",
    "plt.show()"
   ]
  },
  {
   "cell_type": "code",
   "execution_count": 25,
   "id": "d30b2e9a-e6dc-4136-9688-cfe48a0886ed",
   "metadata": {},
   "outputs": [
    {
     "data": {
      "text/html": [
       "<div>\n",
       "<style scoped>\n",
       "    .dataframe tbody tr th:only-of-type {\n",
       "        vertical-align: middle;\n",
       "    }\n",
       "\n",
       "    .dataframe tbody tr th {\n",
       "        vertical-align: top;\n",
       "    }\n",
       "\n",
       "    .dataframe thead th {\n",
       "        text-align: right;\n",
       "    }\n",
       "</style>\n",
       "<table border=\"1\" class=\"dataframe\">\n",
       "  <thead>\n",
       "    <tr style=\"text-align: right;\">\n",
       "      <th></th>\n",
       "      <th>Date Recorded</th>\n",
       "      <th>Town</th>\n",
       "      <th>Address</th>\n",
       "      <th>Assessed Value</th>\n",
       "      <th>Sale Amount</th>\n",
       "      <th>Sales Ratio</th>\n",
       "      <th>Property Type</th>\n",
       "      <th>Residential Type</th>\n",
       "    </tr>\n",
       "  </thead>\n",
       "  <tbody>\n",
       "    <tr>\n",
       "      <th>0</th>\n",
       "      <td>06/20/2022</td>\n",
       "      <td>Avon</td>\n",
       "      <td>12 BYRON DRIVE</td>\n",
       "      <td>179990</td>\n",
       "      <td>362500.0</td>\n",
       "      <td>0.4965</td>\n",
       "      <td>Residential</td>\n",
       "      <td>Condo</td>\n",
       "    </tr>\n",
       "    <tr>\n",
       "      <th>1</th>\n",
       "      <td>04/18/2022</td>\n",
       "      <td>Bridgeport</td>\n",
       "      <td>55 CANNON ST</td>\n",
       "      <td>110610</td>\n",
       "      <td>50000.0</td>\n",
       "      <td>2.2122</td>\n",
       "      <td>Vacant Land</td>\n",
       "      <td>Other</td>\n",
       "    </tr>\n",
       "    <tr>\n",
       "      <th>2</th>\n",
       "      <td>2022-08-08 00:00:00</td>\n",
       "      <td>Bridgeport</td>\n",
       "      <td>540 JAMES ST</td>\n",
       "      <td>252150</td>\n",
       "      <td>650000.0</td>\n",
       "      <td>0.3879</td>\n",
       "      <td>Commercial</td>\n",
       "      <td>Other</td>\n",
       "    </tr>\n",
       "    <tr>\n",
       "      <th>3</th>\n",
       "      <td>08/30/2022</td>\n",
       "      <td>Bridgeport</td>\n",
       "      <td>126 KENNEDY DR</td>\n",
       "      <td>70850</td>\n",
       "      <td>130000.0</td>\n",
       "      <td>0.5450</td>\n",
       "      <td>Residential</td>\n",
       "      <td>Condo</td>\n",
       "    </tr>\n",
       "    <tr>\n",
       "      <th>4</th>\n",
       "      <td>2022-08-08 00:00:00</td>\n",
       "      <td>Bristol</td>\n",
       "      <td>477 PERKINS ST</td>\n",
       "      <td>45010</td>\n",
       "      <td>99900.0</td>\n",
       "      <td>0.4505</td>\n",
       "      <td>Vacant Land</td>\n",
       "      <td>Other</td>\n",
       "    </tr>\n",
       "  </tbody>\n",
       "</table>\n",
       "</div>"
      ],
      "text/plain": [
       "         Date Recorded        Town         Address  Assessed Value  \\\n",
       "0           06/20/2022        Avon  12 BYRON DRIVE          179990   \n",
       "1           04/18/2022  Bridgeport    55 CANNON ST          110610   \n",
       "2  2022-08-08 00:00:00  Bridgeport    540 JAMES ST          252150   \n",
       "3           08/30/2022  Bridgeport  126 KENNEDY DR           70850   \n",
       "4  2022-08-08 00:00:00     Bristol  477 PERKINS ST           45010   \n",
       "\n",
       "   Sale Amount  Sales Ratio Property Type Residential Type  \n",
       "0     362500.0       0.4965   Residential            Condo  \n",
       "1      50000.0       2.2122   Vacant Land            Other  \n",
       "2     650000.0       0.3879    Commercial            Other  \n",
       "3     130000.0       0.5450   Residential            Condo  \n",
       "4      99900.0       0.4505   Vacant Land            Other  "
      ]
     },
     "execution_count": 25,
     "metadata": {},
     "output_type": "execute_result"
    }
   ],
   "source": [
    "final_sales.head()"
   ]
  },
  {
   "cell_type": "code",
   "execution_count": 26,
   "id": "d62bfe80-28a3-4b1a-b457-c4083b91c5c7",
   "metadata": {},
   "outputs": [],
   "source": [
    "final_sales[\"Sale Date\"] = pd.to_datetime(final_sales[\"Date Recorded\"])\n",
    "final_sales[\"Sale_Year\"] = final_sales[\"Sale Date\"].dt.year\n",
    "final_sales[\"Sale_Month\"] = final_sales[\"Sale Date\"].dt.month\n",
    "final_sales[\"Sale_Day\"] = final_sales[\"Sale Date\"].dt.day"
   ]
  },
  {
   "cell_type": "code",
   "execution_count": 27,
   "id": "24242a52-6e3d-42c8-82bc-801579d73cab",
   "metadata": {},
   "outputs": [
    {
     "data": {
      "text/html": [
       "<div>\n",
       "<style scoped>\n",
       "    .dataframe tbody tr th:only-of-type {\n",
       "        vertical-align: middle;\n",
       "    }\n",
       "\n",
       "    .dataframe tbody tr th {\n",
       "        vertical-align: top;\n",
       "    }\n",
       "\n",
       "    .dataframe thead th {\n",
       "        text-align: right;\n",
       "    }\n",
       "</style>\n",
       "<table border=\"1\" class=\"dataframe\">\n",
       "  <thead>\n",
       "    <tr style=\"text-align: right;\">\n",
       "      <th></th>\n",
       "      <th>Town</th>\n",
       "      <th>Address</th>\n",
       "      <th>Assessed Value</th>\n",
       "      <th>Sale Amount</th>\n",
       "      <th>Sales Ratio</th>\n",
       "      <th>Property Type</th>\n",
       "      <th>Residential Type</th>\n",
       "      <th>Sale Date</th>\n",
       "      <th>Sale_Year</th>\n",
       "      <th>Sale_Month</th>\n",
       "      <th>Sale_Day</th>\n",
       "    </tr>\n",
       "  </thead>\n",
       "  <tbody>\n",
       "    <tr>\n",
       "      <th>0</th>\n",
       "      <td>Avon</td>\n",
       "      <td>12 BYRON DRIVE</td>\n",
       "      <td>179990</td>\n",
       "      <td>362500.0</td>\n",
       "      <td>0.4965</td>\n",
       "      <td>Residential</td>\n",
       "      <td>Condo</td>\n",
       "      <td>2022-06-20</td>\n",
       "      <td>2022</td>\n",
       "      <td>6</td>\n",
       "      <td>20</td>\n",
       "    </tr>\n",
       "    <tr>\n",
       "      <th>1</th>\n",
       "      <td>Bridgeport</td>\n",
       "      <td>55 CANNON ST</td>\n",
       "      <td>110610</td>\n",
       "      <td>50000.0</td>\n",
       "      <td>2.2122</td>\n",
       "      <td>Vacant Land</td>\n",
       "      <td>Other</td>\n",
       "      <td>2022-04-18</td>\n",
       "      <td>2022</td>\n",
       "      <td>4</td>\n",
       "      <td>18</td>\n",
       "    </tr>\n",
       "    <tr>\n",
       "      <th>2</th>\n",
       "      <td>Bridgeport</td>\n",
       "      <td>540 JAMES ST</td>\n",
       "      <td>252150</td>\n",
       "      <td>650000.0</td>\n",
       "      <td>0.3879</td>\n",
       "      <td>Commercial</td>\n",
       "      <td>Other</td>\n",
       "      <td>2022-08-08</td>\n",
       "      <td>2022</td>\n",
       "      <td>8</td>\n",
       "      <td>8</td>\n",
       "    </tr>\n",
       "    <tr>\n",
       "      <th>3</th>\n",
       "      <td>Bridgeport</td>\n",
       "      <td>126 KENNEDY DR</td>\n",
       "      <td>70850</td>\n",
       "      <td>130000.0</td>\n",
       "      <td>0.5450</td>\n",
       "      <td>Residential</td>\n",
       "      <td>Condo</td>\n",
       "      <td>2022-08-30</td>\n",
       "      <td>2022</td>\n",
       "      <td>8</td>\n",
       "      <td>30</td>\n",
       "    </tr>\n",
       "    <tr>\n",
       "      <th>4</th>\n",
       "      <td>Bristol</td>\n",
       "      <td>477 PERKINS ST</td>\n",
       "      <td>45010</td>\n",
       "      <td>99900.0</td>\n",
       "      <td>0.4505</td>\n",
       "      <td>Vacant Land</td>\n",
       "      <td>Other</td>\n",
       "      <td>2022-08-08</td>\n",
       "      <td>2022</td>\n",
       "      <td>8</td>\n",
       "      <td>8</td>\n",
       "    </tr>\n",
       "  </tbody>\n",
       "</table>\n",
       "</div>"
      ],
      "text/plain": [
       "         Town         Address  Assessed Value  Sale Amount  Sales Ratio  \\\n",
       "0        Avon  12 BYRON DRIVE          179990     362500.0       0.4965   \n",
       "1  Bridgeport    55 CANNON ST          110610      50000.0       2.2122   \n",
       "2  Bridgeport    540 JAMES ST          252150     650000.0       0.3879   \n",
       "3  Bridgeport  126 KENNEDY DR           70850     130000.0       0.5450   \n",
       "4     Bristol  477 PERKINS ST           45010      99900.0       0.4505   \n",
       "\n",
       "  Property Type Residential Type  Sale Date  Sale_Year  Sale_Month  Sale_Day  \n",
       "0   Residential            Condo 2022-06-20       2022           6        20  \n",
       "1   Vacant Land            Other 2022-04-18       2022           4        18  \n",
       "2    Commercial            Other 2022-08-08       2022           8         8  \n",
       "3   Residential            Condo 2022-08-30       2022           8        30  \n",
       "4   Vacant Land            Other 2022-08-08       2022           8         8  "
      ]
     },
     "execution_count": 27,
     "metadata": {},
     "output_type": "execute_result"
    }
   ],
   "source": [
    "final_sales.drop('Date Recorded',axis=1,inplace=True)\n",
    "final_sales.head()"
   ]
  },
  {
   "cell_type": "code",
   "execution_count": 28,
   "id": "a4aa9612-d94c-42e4-a2e7-e9b0fe264aac",
   "metadata": {},
   "outputs": [
    {
     "data": {
      "text/html": [
       "<div>\n",
       "<style scoped>\n",
       "    .dataframe tbody tr th:only-of-type {\n",
       "        vertical-align: middle;\n",
       "    }\n",
       "\n",
       "    .dataframe tbody tr th {\n",
       "        vertical-align: top;\n",
       "    }\n",
       "\n",
       "    .dataframe thead th {\n",
       "        text-align: right;\n",
       "    }\n",
       "</style>\n",
       "<table border=\"1\" class=\"dataframe\">\n",
       "  <thead>\n",
       "    <tr style=\"text-align: right;\">\n",
       "      <th></th>\n",
       "      <th>Town</th>\n",
       "      <th>Assessed Value</th>\n",
       "      <th>Sale Amount</th>\n",
       "      <th>Property Type</th>\n",
       "      <th>Residential Type</th>\n",
       "      <th>Sale_Month</th>\n",
       "      <th>Sale_Day</th>\n",
       "    </tr>\n",
       "  </thead>\n",
       "  <tbody>\n",
       "    <tr>\n",
       "      <th>0</th>\n",
       "      <td>Avon</td>\n",
       "      <td>179990</td>\n",
       "      <td>362500.0</td>\n",
       "      <td>Residential</td>\n",
       "      <td>Condo</td>\n",
       "      <td>6</td>\n",
       "      <td>20</td>\n",
       "    </tr>\n",
       "    <tr>\n",
       "      <th>1</th>\n",
       "      <td>Bridgeport</td>\n",
       "      <td>110610</td>\n",
       "      <td>50000.0</td>\n",
       "      <td>Vacant Land</td>\n",
       "      <td>Other</td>\n",
       "      <td>4</td>\n",
       "      <td>18</td>\n",
       "    </tr>\n",
       "    <tr>\n",
       "      <th>2</th>\n",
       "      <td>Bridgeport</td>\n",
       "      <td>252150</td>\n",
       "      <td>650000.0</td>\n",
       "      <td>Commercial</td>\n",
       "      <td>Other</td>\n",
       "      <td>8</td>\n",
       "      <td>8</td>\n",
       "    </tr>\n",
       "    <tr>\n",
       "      <th>3</th>\n",
       "      <td>Bridgeport</td>\n",
       "      <td>70850</td>\n",
       "      <td>130000.0</td>\n",
       "      <td>Residential</td>\n",
       "      <td>Condo</td>\n",
       "      <td>8</td>\n",
       "      <td>30</td>\n",
       "    </tr>\n",
       "    <tr>\n",
       "      <th>4</th>\n",
       "      <td>Bristol</td>\n",
       "      <td>45010</td>\n",
       "      <td>99900.0</td>\n",
       "      <td>Vacant Land</td>\n",
       "      <td>Other</td>\n",
       "      <td>8</td>\n",
       "      <td>8</td>\n",
       "    </tr>\n",
       "  </tbody>\n",
       "</table>\n",
       "</div>"
      ],
      "text/plain": [
       "         Town  Assessed Value  Sale Amount Property Type Residential Type  \\\n",
       "0        Avon          179990     362500.0   Residential            Condo   \n",
       "1  Bridgeport          110610      50000.0   Vacant Land            Other   \n",
       "2  Bridgeport          252150     650000.0    Commercial            Other   \n",
       "3  Bridgeport           70850     130000.0   Residential            Condo   \n",
       "4     Bristol           45010      99900.0   Vacant Land            Other   \n",
       "\n",
       "   Sale_Month  Sale_Day  \n",
       "0           6        20  \n",
       "1           4        18  \n",
       "2           8         8  \n",
       "3           8        30  \n",
       "4           8         8  "
      ]
     },
     "execution_count": 28,
     "metadata": {},
     "output_type": "execute_result"
    }
   ],
   "source": [
    "\"\"\"\n",
    "Since there are too many unique addresses, it is not practical to convert them into numerical features for modeling. \n",
    "Instead of using the full address, we can aggregate the data at a higher level, such as town-wise sales. \n",
    "Additionally, the 'Sale Year' column can be removed, as it does not provide significant value for our model.\n",
    "\"\"\"\n",
    "final_sales.drop(['Sale_Year','Address','Sale Date','Sales Ratio'],axis = 1,inplace = True)\n",
    "final_sales.head()"
   ]
  },
  {
   "cell_type": "code",
   "execution_count": 29,
   "id": "dc98000b-1e2e-4e7d-86a0-f880cb34294f",
   "metadata": {},
   "outputs": [
    {
     "data": {
      "image/png": "[encoded data removed]",
      "text/plain": [
       "<Figure size 640x480 with 1 Axes>"
      ]
     },
     "metadata": {},
     "output_type": "display_data"
    }
   ],
   "source": [
    "final_sales.groupby('Town')['Sale Amount'].mean().sort_values(ascending=False).head(20) .plot.bar()\n",
    "plt.yticks([i * 10000 for i in range(0, 250, 25)] ,[f'{i/100:.1f}M' for i in range(0, 250, 25)] )\n",
    "plt.show()"
   ]
  },
  {
   "cell_type": "code",
   "execution_count": 30,
   "id": "911f9a97-7dec-4b60-ae78-5d972ecd6eb7",
   "metadata": {},
   "outputs": [
    {
     "data": {
      "image/png": "[encoded data removed]",
      "text/plain": [
       "<Figure size 640x480 with 1 Axes>"
      ]
     },
     "metadata": {},
     "output_type": "display_data"
    }
   ],
   "source": [
    "final_sales.groupby('Property Type')['Sale Amount'].mean().plot.bar()\n",
    "plt.yticks([i * 10000 for i in range(0, 320, 25)] ,[f'{i/100:.1f}M' for i in range(0, 320, 25)] )\n",
    "plt.show()"
   ]
  },
  {
   "cell_type": "code",
   "execution_count": 31,
   "id": "1d408b34-6056-41c8-82e0-50e80cd0cafa",
   "metadata": {},
   "outputs": [
    {
     "data": {
      "image/png": "[encoded data removed]",
      "text/plain": [
       "<Figure size 640x480 with 1 Axes>"
      ]
     },
     "metadata": {},
     "output_type": "display_data"
    }
   ],
   "source": [
    "final_sales.groupby('Residential Type')['Sale Amount'].mean().plot.bar()\n",
    "plt.yticks([i * 10000 for i in range(0, 320, 25)] ,[f'{i/100:.1f}M' for i in range(0, 320, 25)] )\n",
    "plt.show()"
   ]
  },
  {
   "cell_type": "code",
   "execution_count": 32,
   "id": "a4c4f1b5-dc15-4e6d-816d-49a1a5569108",
   "metadata": {},
   "outputs": [
    {
     "data": {
      "image/png": "[encoded data removed]",
      "text/plain": [
       "<Figure size 640x480 with 1 Axes>"
      ]
     },
     "metadata": {},
     "output_type": "display_data"
    }
   ],
   "source": [
    "final_sales.groupby('Sale_Month')['Sale Amount'].mean().plot.bar()\n",
    "plt.yticks([i * 10000 for i in range(0, 75, 25)] ,[f'{i/100:.1f}M' for i in range(0, 75, 25)] )\n",
    "plt.show()"
   ]
  },
  {
   "cell_type": "code",
   "execution_count": 33,
   "id": "53b44d90-3695-492f-a226-9a914637183f",
   "metadata": {},
   "outputs": [
    {
     "data": {
      "image/png": "[encoded data removed]",
      "text/plain": [
       "<Figure size 640x480 with 1 Axes>"
      ]
     },
     "metadata": {},
     "output_type": "display_data"
    }
   ],
   "source": [
    "final_sales.groupby('Sale_Day')['Sale Amount'].mean().plot.bar()\n",
    "plt.yticks([i * 10000 for i in range(0, 75, 25)] ,[f'{i/100:.1f}M' for i in range(0, 75, 25)] )\n",
    "plt.show()"
   ]
  },
  {
   "cell_type": "markdown",
   "id": "ddc64fcb-9203-4abd-a8f1-de466a857e89",
   "metadata": {},
   "source": [
    "### Data Preprocessing"
   ]
  },
  {
   "cell_type": "code",
   "execution_count": 35,
   "id": "72a20b60-8006-4cd2-bac6-c86f563a711b",
   "metadata": {},
   "outputs": [
    {
     "data": {
      "text/html": [
       "<div>\n",
       "<style scoped>\n",
       "    .dataframe tbody tr th:only-of-type {\n",
       "        vertical-align: middle;\n",
       "    }\n",
       "\n",
       "    .dataframe tbody tr th {\n",
       "        vertical-align: top;\n",
       "    }\n",
       "\n",
       "    .dataframe thead th {\n",
       "        text-align: right;\n",
       "    }\n",
       "</style>\n",
       "<table border=\"1\" class=\"dataframe\">\n",
       "  <thead>\n",
       "    <tr style=\"text-align: right;\">\n",
       "      <th></th>\n",
       "      <th>Town</th>\n",
       "      <th>Assessed Value</th>\n",
       "      <th>Sale Amount</th>\n",
       "      <th>Property Type</th>\n",
       "      <th>Residential Type</th>\n",
       "      <th>Sale_Month</th>\n",
       "      <th>Sale_Day</th>\n",
       "    </tr>\n",
       "  </thead>\n",
       "  <tbody>\n",
       "    <tr>\n",
       "      <th>0</th>\n",
       "      <td>Avon</td>\n",
       "      <td>179990</td>\n",
       "      <td>362500.0</td>\n",
       "      <td>Residential</td>\n",
       "      <td>Condo</td>\n",
       "      <td>6</td>\n",
       "      <td>20</td>\n",
       "    </tr>\n",
       "    <tr>\n",
       "      <th>1</th>\n",
       "      <td>Bridgeport</td>\n",
       "      <td>110610</td>\n",
       "      <td>50000.0</td>\n",
       "      <td>Vacant Land</td>\n",
       "      <td>Other</td>\n",
       "      <td>4</td>\n",
       "      <td>18</td>\n",
       "    </tr>\n",
       "    <tr>\n",
       "      <th>2</th>\n",
       "      <td>Bridgeport</td>\n",
       "      <td>252150</td>\n",
       "      <td>650000.0</td>\n",
       "      <td>Commercial</td>\n",
       "      <td>Other</td>\n",
       "      <td>8</td>\n",
       "      <td>8</td>\n",
       "    </tr>\n",
       "    <tr>\n",
       "      <th>3</th>\n",
       "      <td>Bridgeport</td>\n",
       "      <td>70850</td>\n",
       "      <td>130000.0</td>\n",
       "      <td>Residential</td>\n",
       "      <td>Condo</td>\n",
       "      <td>8</td>\n",
       "      <td>30</td>\n",
       "    </tr>\n",
       "    <tr>\n",
       "      <th>4</th>\n",
       "      <td>Bristol</td>\n",
       "      <td>45010</td>\n",
       "      <td>99900.0</td>\n",
       "      <td>Vacant Land</td>\n",
       "      <td>Other</td>\n",
       "      <td>8</td>\n",
       "      <td>8</td>\n",
       "    </tr>\n",
       "  </tbody>\n",
       "</table>\n",
       "</div>"
      ],
      "text/plain": [
       "         Town  Assessed Value  Sale Amount Property Type Residential Type  \\\n",
       "0        Avon          179990     362500.0   Residential            Condo   \n",
       "1  Bridgeport          110610      50000.0   Vacant Land            Other   \n",
       "2  Bridgeport          252150     650000.0    Commercial            Other   \n",
       "3  Bridgeport           70850     130000.0   Residential            Condo   \n",
       "4     Bristol           45010      99900.0   Vacant Land            Other   \n",
       "\n",
       "   Sale_Month  Sale_Day  \n",
       "0           6        20  \n",
       "1           4        18  \n",
       "2           8         8  \n",
       "3           8        30  \n",
       "4           8         8  "
      ]
     },
     "execution_count": 35,
     "metadata": {},
     "output_type": "execute_result"
    }
   ],
   "source": [
    "final_sales.head()"
   ]
  },
  {
   "cell_type": "code",
   "execution_count": 36,
   "id": "e9e6db70-03b9-432c-9221-40883c0ab3c9",
   "metadata": {},
   "outputs": [],
   "source": [
    "'''\n",
    "Converting categorical data into numerical values\n",
    "\n",
    "other than Assessed Value remaning all columns are categorical columns\n",
    "\n",
    "converting them into numerical values '''\n",
    "\n",
    "cat_cols = ['Town','Property Type','Residential Type','Sale_Month','Sale_Day']\n",
    "\n",
    "status = pd.get_dummies(final_sales[cat_cols],drop_first =True).astype(int)"
   ]
  },
  {
   "cell_type": "code",
   "execution_count": 37,
   "id": "3d3fb0e9-2fb9-43ea-a31a-b862d780c362",
   "metadata": {},
   "outputs": [
    {
     "data": {
      "text/html": [
       "<div>\n",
       "<style scoped>\n",
       "    .dataframe tbody tr th:only-of-type {\n",
       "        vertical-align: middle;\n",
       "    }\n",
       "\n",
       "    .dataframe tbody tr th {\n",
       "        vertical-align: top;\n",
       "    }\n",
       "\n",
       "    .dataframe thead th {\n",
       "        text-align: right;\n",
       "    }\n",
       "</style>\n",
       "<table border=\"1\" class=\"dataframe\">\n",
       "  <thead>\n",
       "    <tr style=\"text-align: right;\">\n",
       "      <th></th>\n",
       "      <th>Assessed Value</th>\n",
       "      <th>Sale Amount</th>\n",
       "      <th>Town_Andover</th>\n",
       "      <th>Town_Ansonia</th>\n",
       "      <th>Town_Ashford</th>\n",
       "      <th>Town_Avon</th>\n",
       "      <th>Town_Barkhamsted</th>\n",
       "      <th>Town_Beacon Falls</th>\n",
       "      <th>Town_Berlin</th>\n",
       "      <th>Town_Bethany</th>\n",
       "      <th>...</th>\n",
       "      <th>Property Type_Residential</th>\n",
       "      <th>Property Type_Single Family</th>\n",
       "      <th>Property Type_Three Family</th>\n",
       "      <th>Property Type_Two Family</th>\n",
       "      <th>Property Type_Vacant Land</th>\n",
       "      <th>Residential Type_Four Family</th>\n",
       "      <th>Residential Type_Other</th>\n",
       "      <th>Residential Type_Single Family</th>\n",
       "      <th>Residential Type_Three Family</th>\n",
       "      <th>Residential Type_Two Family</th>\n",
       "    </tr>\n",
       "  </thead>\n",
       "  <tbody>\n",
       "    <tr>\n",
       "      <th>0</th>\n",
       "      <td>179990</td>\n",
       "      <td>362500.0</td>\n",
       "      <td>0</td>\n",
       "      <td>0</td>\n",
       "      <td>0</td>\n",
       "      <td>1</td>\n",
       "      <td>0</td>\n",
       "      <td>0</td>\n",
       "      <td>0</td>\n",
       "      <td>0</td>\n",
       "      <td>...</td>\n",
       "      <td>1</td>\n",
       "      <td>0</td>\n",
       "      <td>0</td>\n",
       "      <td>0</td>\n",
       "      <td>0</td>\n",
       "      <td>0</td>\n",
       "      <td>0</td>\n",
       "      <td>0</td>\n",
       "      <td>0</td>\n",
       "      <td>0</td>\n",
       "    </tr>\n",
       "    <tr>\n",
       "      <th>1</th>\n",
       "      <td>110610</td>\n",
       "      <td>50000.0</td>\n",
       "      <td>0</td>\n",
       "      <td>0</td>\n",
       "      <td>0</td>\n",
       "      <td>0</td>\n",
       "      <td>0</td>\n",
       "      <td>0</td>\n",
       "      <td>0</td>\n",
       "      <td>0</td>\n",
       "      <td>...</td>\n",
       "      <td>0</td>\n",
       "      <td>0</td>\n",
       "      <td>0</td>\n",
       "      <td>0</td>\n",
       "      <td>1</td>\n",
       "      <td>0</td>\n",
       "      <td>1</td>\n",
       "      <td>0</td>\n",
       "      <td>0</td>\n",
       "      <td>0</td>\n",
       "    </tr>\n",
       "    <tr>\n",
       "      <th>2</th>\n",
       "      <td>252150</td>\n",
       "      <td>650000.0</td>\n",
       "      <td>0</td>\n",
       "      <td>0</td>\n",
       "      <td>0</td>\n",
       "      <td>0</td>\n",
       "      <td>0</td>\n",
       "      <td>0</td>\n",
       "      <td>0</td>\n",
       "      <td>0</td>\n",
       "      <td>...</td>\n",
       "      <td>0</td>\n",
       "      <td>0</td>\n",
       "      <td>0</td>\n",
       "      <td>0</td>\n",
       "      <td>0</td>\n",
       "      <td>0</td>\n",
       "      <td>1</td>\n",
       "      <td>0</td>\n",
       "      <td>0</td>\n",
       "      <td>0</td>\n",
       "    </tr>\n",
       "    <tr>\n",
       "      <th>3</th>\n",
       "      <td>70850</td>\n",
       "      <td>130000.0</td>\n",
       "      <td>0</td>\n",
       "      <td>0</td>\n",
       "      <td>0</td>\n",
       "      <td>0</td>\n",
       "      <td>0</td>\n",
       "      <td>0</td>\n",
       "      <td>0</td>\n",
       "      <td>0</td>\n",
       "      <td>...</td>\n",
       "      <td>1</td>\n",
       "      <td>0</td>\n",
       "      <td>0</td>\n",
       "      <td>0</td>\n",
       "      <td>0</td>\n",
       "      <td>0</td>\n",
       "      <td>0</td>\n",
       "      <td>0</td>\n",
       "      <td>0</td>\n",
       "      <td>0</td>\n",
       "    </tr>\n",
       "    <tr>\n",
       "      <th>4</th>\n",
       "      <td>45010</td>\n",
       "      <td>99900.0</td>\n",
       "      <td>0</td>\n",
       "      <td>0</td>\n",
       "      <td>0</td>\n",
       "      <td>0</td>\n",
       "      <td>0</td>\n",
       "      <td>0</td>\n",
       "      <td>0</td>\n",
       "      <td>0</td>\n",
       "      <td>...</td>\n",
       "      <td>0</td>\n",
       "      <td>0</td>\n",
       "      <td>0</td>\n",
       "      <td>0</td>\n",
       "      <td>1</td>\n",
       "      <td>0</td>\n",
       "      <td>1</td>\n",
       "      <td>0</td>\n",
       "      <td>0</td>\n",
       "      <td>0</td>\n",
       "    </tr>\n",
       "  </tbody>\n",
       "</table>\n",
       "<p>5 rows × 186 columns</p>\n",
       "</div>"
      ],
      "text/plain": [
       "   Assessed Value  Sale Amount  Town_Andover  Town_Ansonia  Town_Ashford  \\\n",
       "0          179990     362500.0             0             0             0   \n",
       "1          110610      50000.0             0             0             0   \n",
       "2          252150     650000.0             0             0             0   \n",
       "3           70850     130000.0             0             0             0   \n",
       "4           45010      99900.0             0             0             0   \n",
       "\n",
       "   Town_Avon  Town_Barkhamsted  Town_Beacon Falls  Town_Berlin  Town_Bethany  \\\n",
       "0          1                 0                  0            0             0   \n",
       "1          0                 0                  0            0             0   \n",
       "2          0                 0                  0            0             0   \n",
       "3          0                 0                  0            0             0   \n",
       "4          0                 0                  0            0             0   \n",
       "\n",
       "   ...  Property Type_Residential  Property Type_Single Family  \\\n",
       "0  ...                          1                            0   \n",
       "1  ...                          0                            0   \n",
       "2  ...                          0                            0   \n",
       "3  ...                          1                            0   \n",
       "4  ...                          0                            0   \n",
       "\n",
       "   Property Type_Three Family  Property Type_Two Family  \\\n",
       "0                           0                         0   \n",
       "1                           0                         0   \n",
       "2                           0                         0   \n",
       "3                           0                         0   \n",
       "4                           0                         0   \n",
       "\n",
       "   Property Type_Vacant Land  Residential Type_Four Family  \\\n",
       "0                          0                             0   \n",
       "1                          1                             0   \n",
       "2                          0                             0   \n",
       "3                          0                             0   \n",
       "4                          1                             0   \n",
       "\n",
       "   Residential Type_Other  Residential Type_Single Family  \\\n",
       "0                       0                               0   \n",
       "1                       1                               0   \n",
       "2                       1                               0   \n",
       "3                       0                               0   \n",
       "4                       1                               0   \n",
       "\n",
       "   Residential Type_Three Family  Residential Type_Two Family  \n",
       "0                              0                            0  \n",
       "1                              0                            0  \n",
       "2                              0                            0  \n",
       "3                              0                            0  \n",
       "4                              0                            0  \n",
       "\n",
       "[5 rows x 186 columns]"
      ]
     },
     "execution_count": 37,
     "metadata": {},
     "output_type": "execute_result"
    }
   ],
   "source": [
    "preprocessed_sales = pd.concat([final_sales,status],axis=1)\n",
    "preprocessed_sales.drop(cat_cols,axis=1,inplace=True)\n",
    "preprocessed_sales.head()"
   ]
  },
  {
   "cell_type": "markdown",
   "id": "d31d2a0f-3b91-4d6a-8b44-a375cf54adec",
   "metadata": {},
   "source": [
    "### Model Building"
   ]
  },
  {
   "cell_type": "code",
   "execution_count": 39,
   "id": "d8a7b358-87af-4c4e-abb5-a3660ad12a29",
   "metadata": {},
   "outputs": [],
   "source": [
    "from sklearn.preprocessing import StandardScaler"
   ]
  },
  {
   "cell_type": "code",
   "execution_count": 40,
   "id": "ae3022af-e80b-4b6d-9a26-2dc1ebb08b45",
   "metadata": {},
   "outputs": [],
   "source": [
    "scaler = StandardScaler()"
   ]
  },
  {
   "cell_type": "code",
   "execution_count": 41,
   "id": "e39c5729-c756-4767-a6b4-693e8863d579",
   "metadata": {},
   "outputs": [],
   "source": [
    "from sklearn.model_selection import train_test_split"
   ]
  },
  {
   "cell_type": "code",
   "execution_count": 42,
   "id": "42269257-a992-4c7d-838c-f85b82ac3dbc",
   "metadata": {},
   "outputs": [],
   "source": [
    "Sales_train,Sales_test =  train_test_split(preprocessed_sales,train_size=0.7)"
   ]
  },
  {
   "cell_type": "code",
   "execution_count": 43,
   "id": "a2f3d57b-da9e-4d99-a72a-7374636e6143",
   "metadata": {},
   "outputs": [],
   "source": [
    "Sales_train[['Assessed Value','Sale Amount']] = scaler.fit_transform(Sales_train[['Assessed Value','Sale Amount']])"
   ]
  },
  {
   "cell_type": "code",
   "execution_count": 44,
   "id": "8283c45b-cbf0-4e72-892c-0ae06fe8fb75",
   "metadata": {},
   "outputs": [],
   "source": [
    "Sales_test[['Assessed Value','Sale Amount']] = scaler.transform(Sales_test[['Assessed Value','Sale Amount']])"
   ]
  },
  {
   "cell_type": "code",
   "execution_count": 45,
   "id": "b55250ea-6aff-4a09-a71a-f90ef1ad222a",
   "metadata": {},
   "outputs": [],
   "source": [
    "y_train = Sales_train.pop('Sale Amount')\n",
    "X_train = Sales_train\n",
    "y_test = Sales_test.pop('Sale Amount')\n",
    "X_test = Sales_test"
   ]
  },
  {
   "cell_type": "code",
   "execution_count": 46,
   "id": "6000a97e-1771-4d3c-8b2b-b2eb670ce4ee",
   "metadata": {},
   "outputs": [],
   "source": [
    "number_of_features = 20"
   ]
  },
  {
   "cell_type": "markdown",
   "id": "ca04abfd-d96f-4714-8bed-d86d9dd77f81",
   "metadata": {},
   "source": [
    "### Automated Process from here (common for any linear regression )"
   ]
  },
  {
   "cell_type": "code",
   "execution_count": 48,
   "id": "cd76a5c6-b1fa-4529-a880-a379a801d6b2",
   "metadata": {},
   "outputs": [
    {
     "data": {
      "text/plain": [
       "Index(['Assessed Value', 'Town_Darien', 'Town_Fairfield', 'Town_Greenwich',\n",
       "       'Town_New Canaan', 'Town_Ridgefield', 'Town_Rocky Hill', 'Town_Roxbury',\n",
       "       'Town_Stamford', 'Town_Warren', 'Town_Washington', 'Town_Weston',\n",
       "       'Town_Westport', 'Town_Willington', 'Town_Wilton',\n",
       "       'Property Type_Commercial', 'Property Type_Industrial',\n",
       "       'Property Type_Public Utility', 'Property Type_Vacant Land',\n",
       "       'Residential Type_Other'],\n",
       "      dtype='object')"
      ]
     },
     "execution_count": 48,
     "metadata": {},
     "output_type": "execute_result"
    }
   ],
   "source": [
    "'''\n",
    "Feature selection using Recursive Feature Elimination\n",
    "\n",
    "'''\n",
    "import importlib\n",
    "import recursive_feature_elemination as rfe_process\n",
    "\n",
    "# Reload the module to get latest changes\n",
    "importlib.reload(rfe_process)\n",
    "\n",
    "rfe_class = rfe_process.RfeClass(X_train,y_train,number_of_features)\n",
    "rfe_class.get_rfe_output()\n",
    "selected_columns = rfe_class.top_columns\n",
    "selected_columns"
   ]
  },
  {
   "cell_type": "code",
   "execution_count": 49,
   "id": "19b805ec-f01f-45c7-ba07-27755393cd54",
   "metadata": {},
   "outputs": [
    {
     "data": {
      "text/html": [
       "<div>\n",
       "<style scoped>\n",
       "    .dataframe tbody tr th:only-of-type {\n",
       "        vertical-align: middle;\n",
       "    }\n",
       "\n",
       "    .dataframe tbody tr th {\n",
       "        vertical-align: top;\n",
       "    }\n",
       "\n",
       "    .dataframe thead th {\n",
       "        text-align: right;\n",
       "    }\n",
       "</style>\n",
       "<table border=\"1\" class=\"dataframe\">\n",
       "  <thead>\n",
       "    <tr style=\"text-align: right;\">\n",
       "      <th></th>\n",
       "      <th>Features</th>\n",
       "      <th>VIF</th>\n",
       "    </tr>\n",
       "  </thead>\n",
       "  <tbody>\n",
       "    <tr>\n",
       "      <th>19</th>\n",
       "      <td>Residential Type_Other</td>\n",
       "      <td>12.48</td>\n",
       "    </tr>\n",
       "    <tr>\n",
       "      <th>18</th>\n",
       "      <td>Property Type_Vacant Land</td>\n",
       "      <td>7.32</td>\n",
       "    </tr>\n",
       "    <tr>\n",
       "      <th>15</th>\n",
       "      <td>Property Type_Commercial</td>\n",
       "      <td>5.56</td>\n",
       "    </tr>\n",
       "    <tr>\n",
       "      <th>16</th>\n",
       "      <td>Property Type_Industrial</td>\n",
       "      <td>1.58</td>\n",
       "    </tr>\n",
       "    <tr>\n",
       "      <th>0</th>\n",
       "      <td>Assessed Value</td>\n",
       "      <td>1.12</td>\n",
       "    </tr>\n",
       "    <tr>\n",
       "      <th>3</th>\n",
       "      <td>Town_Greenwich</td>\n",
       "      <td>1.06</td>\n",
       "    </tr>\n",
       "    <tr>\n",
       "      <th>1</th>\n",
       "      <td>Town_Darien</td>\n",
       "      <td>1.01</td>\n",
       "    </tr>\n",
       "    <tr>\n",
       "      <th>12</th>\n",
       "      <td>Town_Westport</td>\n",
       "      <td>1.01</td>\n",
       "    </tr>\n",
       "    <tr>\n",
       "      <th>4</th>\n",
       "      <td>Town_New Canaan</td>\n",
       "      <td>1.01</td>\n",
       "    </tr>\n",
       "    <tr>\n",
       "      <th>17</th>\n",
       "      <td>Property Type_Public Utility</td>\n",
       "      <td>1.01</td>\n",
       "    </tr>\n",
       "    <tr>\n",
       "      <th>5</th>\n",
       "      <td>Town_Ridgefield</td>\n",
       "      <td>1.00</td>\n",
       "    </tr>\n",
       "    <tr>\n",
       "      <th>6</th>\n",
       "      <td>Town_Rocky Hill</td>\n",
       "      <td>1.00</td>\n",
       "    </tr>\n",
       "    <tr>\n",
       "      <th>7</th>\n",
       "      <td>Town_Roxbury</td>\n",
       "      <td>1.00</td>\n",
       "    </tr>\n",
       "    <tr>\n",
       "      <th>8</th>\n",
       "      <td>Town_Stamford</td>\n",
       "      <td>1.00</td>\n",
       "    </tr>\n",
       "    <tr>\n",
       "      <th>9</th>\n",
       "      <td>Town_Warren</td>\n",
       "      <td>1.00</td>\n",
       "    </tr>\n",
       "    <tr>\n",
       "      <th>11</th>\n",
       "      <td>Town_Weston</td>\n",
       "      <td>1.00</td>\n",
       "    </tr>\n",
       "    <tr>\n",
       "      <th>13</th>\n",
       "      <td>Town_Willington</td>\n",
       "      <td>1.00</td>\n",
       "    </tr>\n",
       "    <tr>\n",
       "      <th>14</th>\n",
       "      <td>Town_Wilton</td>\n",
       "      <td>1.00</td>\n",
       "    </tr>\n",
       "    <tr>\n",
       "      <th>2</th>\n",
       "      <td>Town_Fairfield</td>\n",
       "      <td>1.00</td>\n",
       "    </tr>\n",
       "    <tr>\n",
       "      <th>10</th>\n",
       "      <td>Town_Washington</td>\n",
       "      <td>1.00</td>\n",
       "    </tr>\n",
       "  </tbody>\n",
       "</table>\n",
       "</div>"
      ],
      "text/plain": [
       "                        Features    VIF\n",
       "19        Residential Type_Other  12.48\n",
       "18     Property Type_Vacant Land   7.32\n",
       "15      Property Type_Commercial   5.56\n",
       "16      Property Type_Industrial   1.58\n",
       "0                 Assessed Value   1.12\n",
       "3                 Town_Greenwich   1.06\n",
       "1                    Town_Darien   1.01\n",
       "12                 Town_Westport   1.01\n",
       "4                Town_New Canaan   1.01\n",
       "17  Property Type_Public Utility   1.01\n",
       "5                Town_Ridgefield   1.00\n",
       "6                Town_Rocky Hill   1.00\n",
       "7                   Town_Roxbury   1.00\n",
       "8                  Town_Stamford   1.00\n",
       "9                    Town_Warren   1.00\n",
       "11                   Town_Weston   1.00\n",
       "13               Town_Willington   1.00\n",
       "14                   Town_Wilton   1.00\n",
       "2                 Town_Fairfield   1.00\n",
       "10               Town_Washington   1.00"
      ]
     },
     "execution_count": 49,
     "metadata": {},
     "output_type": "execute_result"
    }
   ],
   "source": [
    "'''\n",
    "Checking Vif values for the selected columns\n",
    "'''\n",
    "\n",
    "import variance_inflation_factor_data as vif_class\n",
    "\n",
    "# Reload the module to get latest changes\n",
    "importlib.reload(vif_class)\n",
    "\n",
    "vif = vif_class.VIF(X_train[selected_columns])\n",
    "\n",
    "vif.get_vif_values()"
   ]
  },
  {
   "cell_type": "code",
   "execution_count": 50,
   "id": "fd89c853-9732-4e9d-b73a-937b1c831fdb",
   "metadata": {},
   "outputs": [
    {
     "data": {
      "text/plain": [
       "const                           0.0\n",
       "Assessed Value                  0.0\n",
       "Town_Darien                     0.0\n",
       "Town_Fairfield                  0.0\n",
       "Town_Greenwich                  0.0\n",
       "Town_New Canaan                 0.0\n",
       "Town_Ridgefield                 0.0\n",
       "Town_Rocky Hill                 0.0\n",
       "Town_Roxbury                    0.0\n",
       "Town_Stamford                   0.0\n",
       "Town_Warren                     0.0\n",
       "Town_Washington                 0.0\n",
       "Town_Weston                     0.0\n",
       "Town_Westport                   0.0\n",
       "Town_Willington                 0.0\n",
       "Town_Wilton                     0.0\n",
       "Property Type_Commercial        0.0\n",
       "Property Type_Industrial        0.0\n",
       "Property Type_Public Utility    0.0\n",
       "Property Type_Vacant Land       0.0\n",
       "Residential Type_Other          0.0\n",
       "dtype: float64"
      ]
     },
     "execution_count": 50,
     "metadata": {},
     "output_type": "execute_result"
    }
   ],
   "source": [
    "'''\n",
    "Checking p values for the selected columns\n",
    "'''\n",
    "\n",
    "import statsmodels.api as sm\n",
    "\n",
    "X_train_sm = sm.add_constant(X_train[selected_columns])\n",
    "\n",
    "sm_lr = sm.OLS(y_train,X_train_sm)\n",
    "\n",
    "sm_lr = sm_lr.fit()\n",
    "\n",
    "round(sm_lr.pvalues,4)"
   ]
  },
  {
   "cell_type": "code",
   "execution_count": 51,
   "id": "424191b3-13e5-4237-b43f-d4be11482a71",
   "metadata": {},
   "outputs": [
    {
     "name": "stdout",
     "output_type": "stream",
     "text": [
      "                     Features  p-value   VIF\n",
      "0              Assessed Value      0.0  1.12\n",
      "1                 Town_Darien      0.0  1.01\n",
      "2              Town_Fairfield      0.0  1.00\n",
      "3              Town_Greenwich      0.0  1.06\n",
      "4             Town_New Canaan      0.0  1.01\n",
      "5             Town_Ridgefield      0.0  1.00\n",
      "6             Town_Rocky Hill      0.0  1.00\n",
      "7                Town_Roxbury      0.0  1.00\n",
      "8               Town_Stamford      0.0  1.00\n",
      "9                 Town_Warren      0.0  1.00\n",
      "10            Town_Washington      0.0  1.00\n",
      "11                Town_Weston      0.0  1.00\n",
      "12              Town_Westport      0.0  1.01\n",
      "13            Town_Willington      0.0  1.00\n",
      "14                Town_Wilton      0.0  1.00\n",
      "15   Property Type_Commercial      0.0  1.01\n",
      "16   Property Type_Industrial      0.0  1.00\n",
      "17  Property Type_Vacant Land      0.0  1.00\n"
     ]
    },
    {
     "data": {
      "text/plain": [
       "['Assessed Value',\n",
       " 'Town_Darien',\n",
       " 'Town_Fairfield',\n",
       " 'Town_Greenwich',\n",
       " 'Town_New Canaan',\n",
       " 'Town_Ridgefield',\n",
       " 'Town_Rocky Hill',\n",
       " 'Town_Roxbury',\n",
       " 'Town_Stamford',\n",
       " 'Town_Warren',\n",
       " 'Town_Washington',\n",
       " 'Town_Weston',\n",
       " 'Town_Westport',\n",
       " 'Town_Willington',\n",
       " 'Town_Wilton',\n",
       " 'Property Type_Commercial',\n",
       " 'Property Type_Industrial',\n",
       " 'Property Type_Vacant Land']"
      ]
     },
     "execution_count": 51,
     "metadata": {},
     "output_type": "execute_result"
    }
   ],
   "source": [
    "'''\n",
    "Removing the highly correlared features and p-values > 0.05 features\n",
    "'''\n",
    "import automated_feature_selection as feature_selection\n",
    "\n",
    "importlib.reload(feature_selection)\n",
    "\n",
    "final_features = feature_selection.final_data(X_train[selected_columns],y_train)\n",
    "final_features"
   ]
  },
  {
   "cell_type": "markdown",
   "id": "e2bbc8cf-a096-4088-816a-e59911b451c0",
   "metadata": {},
   "source": [
    "### Final Model Building"
   ]
  },
  {
   "cell_type": "code",
   "execution_count": 53,
   "id": "0f6425d2-1b1d-4880-9042-4f9a591e011c",
   "metadata": {},
   "outputs": [],
   "source": [
    "from sklearn.linear_model import LinearRegression\n",
    "\n",
    "final_X_train = X_train[final_features]\n",
    "\n",
    "lr = LinearRegression()\n",
    "lr = lr.fit(final_X_train,y_train)"
   ]
  },
  {
   "cell_type": "code",
   "execution_count": 54,
   "id": "11bea00a-b9b4-4369-880d-8d02cbd53773",
   "metadata": {},
   "outputs": [
    {
     "data": {
      "text/plain": [
       "0.26722795304060554"
      ]
     },
     "execution_count": 54,
     "metadata": {},
     "output_type": "execute_result"
    }
   ],
   "source": [
    "from sklearn.metrics import r2_score\n",
    "r2_score(y_train,lr.predict(final_X_train))"
   ]
  },
  {
   "cell_type": "code",
   "execution_count": 55,
   "id": "22d4e94b-a255-44c1-9478-ffe4d1097b9b",
   "metadata": {},
   "outputs": [
    {
     "data": {
      "text/plain": [
       "-0.3749369178497928"
      ]
     },
     "execution_count": 55,
     "metadata": {},
     "output_type": "execute_result"
    }
   ],
   "source": [
    "from sklearn.metrics import r2_score\n",
    "r2_score(y_test,lr.predict(X_test[final_features]))"
   ]
  },
  {
   "cell_type": "markdown",
   "id": "66c02405-8c96-405e-86d4-26892a745e3f",
   "metadata": {},
   "source": [
    "Here r2 score is too low so our model is too week , her our intension was to follow all the steps for the result we have to fine tune."
   ]
  },
  {
   "cell_type": "code",
   "execution_count": null,
   "id": "d649c2e3-1c1f-40fb-84eb-14bd9f64f7dd",
   "metadata": {},
   "outputs": [],
   "source": []
  }
 ],
 "metadata": {
  "kernelspec": {
   "display_name": "Python (ml_regression)",
   "language": "python",
   "name": "ml_regression"
  },
  "language_info": {
   "codemirror_mode": {
    "name": "ipython",
    "version": 3
   },
   "file_extension": ".py",
   "mimetype": "text/x-python",
   "name": "python",
   "nbconvert_exporter": "python",
   "pygments_lexer": "ipython3",
   "version": "3.9.6"
  }
 },
 "nbformat": 4,
 "nbformat_minor": 5
}
